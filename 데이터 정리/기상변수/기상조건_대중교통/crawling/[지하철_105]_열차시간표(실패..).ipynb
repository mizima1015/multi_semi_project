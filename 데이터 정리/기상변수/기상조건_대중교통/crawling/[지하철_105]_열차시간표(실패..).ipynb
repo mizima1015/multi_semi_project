{
 "cells": [
  {
   "cell_type": "markdown",
   "id": "1e525540-64c7-4dab-b5b8-b0e43668b190",
   "metadata": {},
   "source": [
    "# 데이터 불러오기\n",
    "- http://data.seoul.go.kr/dataList/OA-101/A/1/datasetView.do\n",
    "(서울시 역코드로 지하철역별 열차 시간표 정보 검색)"
   ]
  },
  {
   "cell_type": "markdown",
   "id": "cc2e3dde-d6ff-4186-9b4d-bda1771df9b5",
   "metadata": {},
   "source": [
    "## 샘플 데이터 확인"
   ]
  },
  {
   "cell_type": "code",
   "execution_count": 1,
   "id": "654d4643-49d9-404d-9ce6-13942238b3e8",
   "metadata": {},
   "outputs": [
    {
     "name": "stdout",
     "output_type": "stream",
     "text": [
      "<Response [200]>\n"
     ]
    }
   ],
   "source": [
    "import requests\n",
    "\n",
    "url= \"http://openapi.seoul.go.kr:8088/69576567536c736f3133357542784147/json/SearchSTNTimeTableByIDService/1/5/0244/1/1/\"\n",
    "req = requests.get(url)\n",
    "print(req)"
   ]
  },
  {
   "cell_type": "code",
   "execution_count": 2,
   "id": "8de5fd4e-6f52-40a2-bd49-d7efaef0e868",
   "metadata": {},
   "outputs": [],
   "source": [
    "json_df = req.json()\n",
    "# json_df"
   ]
  },
  {
   "cell_type": "code",
   "execution_count": 3,
   "id": "ed378509-a5a2-467a-bfa7-d4efeec5e255",
   "metadata": {},
   "outputs": [
    {
     "name": "stdout",
     "output_type": "stream",
     "text": [
      "  LINE_NUM FR_CODE STATION_CD STATION_NM TRAIN_NO ARRIVETIME  LEFTTIME  \\\n",
      "0     02호선   211-1       0244         용답     1502   05:35:30  05:36:00   \n",
      "1     02호선   211-1       0244         용답     1504   05:52:30  05:53:00   \n",
      "2     02호선   211-1       0244         용답     1506   06:07:30  06:08:00   \n",
      "3     02호선   211-1       0244         용답     1508   06:22:30  06:23:00   \n",
      "4     02호선   211-1       0244         용답     1510   06:38:30  06:39:00   \n",
      "\n",
      "  ORIGINSTATION DESTSTATION SUBWAYSNAME SUBWAYENAME WEEK_TAG INOUT_TAG  \\\n",
      "0          0246        0211         신설동          성수        1         1   \n",
      "1          0246        0211         신설동          성수        1         1   \n",
      "2          0246        0211         신설동          성수        1         1   \n",
      "3          0246        0211         신설동          성수        1         1   \n",
      "4          0246        0211         신설동          성수        1         1   \n",
      "\n",
      "  FL_FLAG DESTSTATION2 EXPRESS_YN BRANCH_LINE  \n",
      "0                               G              \n",
      "1                               G              \n",
      "2                               G              \n",
      "3                               G              \n",
      "4                               G              \n"
     ]
    }
   ],
   "source": [
    "import pandas as pd\n",
    "\n",
    "sub = json_df['SearchSTNTimeTableByIDService']['row']\n",
    "subway_1 = pd.DataFrame(sub)\n",
    "print(subway_1)"
   ]
  },
  {
   "cell_type": "markdown",
   "id": "ec1b3abe-df55-405f-ba58-0ba6f57fe37d",
   "metadata": {},
   "source": [
    "## 데이터 불러오기\n",
    "### 역 코드 "
   ]
  },
  {
   "cell_type": "code",
   "execution_count": 4,
   "id": "b22d14e5-6f1f-46ab-ab8a-97c2e61efaea",
   "metadata": {},
   "outputs": [
    {
     "name": "stdout",
     "output_type": "stream",
     "text": [
      "<class 'pandas.core.frame.DataFrame'>\n",
      "RangeIndex: 411 entries, 0 to 410\n",
      "Data columns (total 4 columns):\n",
      " #   Column  Non-Null Count  Dtype \n",
      "---  ------  --------------  ----- \n",
      " 0   전철역코드   411 non-null    int64 \n",
      " 1   전철역명    411 non-null    object\n",
      " 2   호선      411 non-null    object\n",
      " 3   외부코드    411 non-null    object\n",
      "dtypes: int64(1), object(3)\n",
      "memory usage: 13.0+ KB\n"
     ]
    }
   ],
   "source": [
    "code = pd.read_csv(\"호선별_역코드.csv\")\n",
    "code.info()"
   ]
  },
  {
   "cell_type": "markdown",
   "id": "221e67ef-24c7-4dbb-b4ed-475cca43c8dd",
   "metadata": {},
   "source": [
    "- 코드가 무조건 숫자 4개로 구성되어야 데이터를 불러올 때 오류가 안난다."
   ]
  },
  {
   "cell_type": "code",
   "execution_count": 5,
   "id": "ca05c21b-2093-4cca-b670-55a66eb36d5f",
   "metadata": {},
   "outputs": [],
   "source": [
    "code['전철역코드'] = code['전철역코드'].astype(str).str.zfill(4)"
   ]
  },
  {
   "cell_type": "code",
   "execution_count": 6,
   "id": "97e384d1-1221-4106-add1-9c7ccf9b6f77",
   "metadata": {},
   "outputs": [
    {
     "data": {
      "text/html": [
       "<div>\n",
       "<style scoped>\n",
       "    .dataframe tbody tr th:only-of-type {\n",
       "        vertical-align: middle;\n",
       "    }\n",
       "\n",
       "    .dataframe tbody tr th {\n",
       "        vertical-align: top;\n",
       "    }\n",
       "\n",
       "    .dataframe thead th {\n",
       "        text-align: right;\n",
       "    }\n",
       "</style>\n",
       "<table border=\"1\" class=\"dataframe\">\n",
       "  <thead>\n",
       "    <tr style=\"text-align: right;\">\n",
       "      <th></th>\n",
       "      <th>전철역코드</th>\n",
       "      <th>전철역명</th>\n",
       "      <th>호선</th>\n",
       "      <th>외부코드</th>\n",
       "    </tr>\n",
       "  </thead>\n",
       "  <tbody>\n",
       "    <tr>\n",
       "      <th>0</th>\n",
       "      <td>0244</td>\n",
       "      <td>용답</td>\n",
       "      <td>02호선</td>\n",
       "      <td>211-1</td>\n",
       "    </tr>\n",
       "  </tbody>\n",
       "</table>\n",
       "</div>"
      ],
      "text/plain": [
       "  전철역코드 전철역명    호선   외부코드\n",
       "0  0244   용답  02호선  211-1"
      ]
     },
     "execution_count": 6,
     "metadata": {},
     "output_type": "execute_result"
    }
   ],
   "source": [
    "code.loc[code['전철역명'] == '용답']"
   ]
  },
  {
   "cell_type": "code",
   "execution_count": 7,
   "id": "3115864e-5ccd-4a0a-80a8-8d85dcd18e68",
   "metadata": {},
   "outputs": [
    {
     "data": {
      "text/html": [
       "<div>\n",
       "<style scoped>\n",
       "    .dataframe tbody tr th:only-of-type {\n",
       "        vertical-align: middle;\n",
       "    }\n",
       "\n",
       "    .dataframe tbody tr th {\n",
       "        vertical-align: top;\n",
       "    }\n",
       "\n",
       "    .dataframe thead th {\n",
       "        text-align: right;\n",
       "    }\n",
       "</style>\n",
       "<table border=\"1\" class=\"dataframe\">\n",
       "  <thead>\n",
       "    <tr style=\"text-align: right;\">\n",
       "      <th></th>\n",
       "      <th>전철역코드</th>\n",
       "      <th>전철역명</th>\n",
       "      <th>호선</th>\n",
       "      <th>외부코드</th>\n",
       "    </tr>\n",
       "  </thead>\n",
       "  <tbody>\n",
       "    <tr>\n",
       "      <th>0</th>\n",
       "      <td>0244</td>\n",
       "      <td>용답</td>\n",
       "      <td>02호선</td>\n",
       "      <td>211-1</td>\n",
       "    </tr>\n",
       "    <tr>\n",
       "      <th>1</th>\n",
       "      <td>0245</td>\n",
       "      <td>신답</td>\n",
       "      <td>02호선</td>\n",
       "      <td>211-2</td>\n",
       "    </tr>\n",
       "    <tr>\n",
       "      <th>2</th>\n",
       "      <td>0250</td>\n",
       "      <td>용두</td>\n",
       "      <td>02호선</td>\n",
       "      <td>211-3</td>\n",
       "    </tr>\n",
       "    <tr>\n",
       "      <th>3</th>\n",
       "      <td>0336</td>\n",
       "      <td>학여울</td>\n",
       "      <td>03호선</td>\n",
       "      <td>346</td>\n",
       "    </tr>\n",
       "    <tr>\n",
       "      <th>4</th>\n",
       "      <td>0428</td>\n",
       "      <td>삼각지</td>\n",
       "      <td>04호선</td>\n",
       "      <td>428</td>\n",
       "    </tr>\n",
       "    <tr>\n",
       "      <th>...</th>\n",
       "      <td>...</td>\n",
       "      <td>...</td>\n",
       "      <td>...</td>\n",
       "      <td>...</td>\n",
       "    </tr>\n",
       "    <tr>\n",
       "      <th>406</th>\n",
       "      <td>0158</td>\n",
       "      <td>청량리</td>\n",
       "      <td>01호선</td>\n",
       "      <td>124</td>\n",
       "    </tr>\n",
       "    <tr>\n",
       "      <th>407</th>\n",
       "      <td>0159</td>\n",
       "      <td>동묘앞</td>\n",
       "      <td>01호선</td>\n",
       "      <td>127</td>\n",
       "    </tr>\n",
       "    <tr>\n",
       "      <th>408</th>\n",
       "      <td>0200</td>\n",
       "      <td>까치산</td>\n",
       "      <td>02호선</td>\n",
       "      <td>234-4</td>\n",
       "    </tr>\n",
       "    <tr>\n",
       "      <th>409</th>\n",
       "      <td>0201</td>\n",
       "      <td>시청</td>\n",
       "      <td>02호선</td>\n",
       "      <td>201</td>\n",
       "    </tr>\n",
       "    <tr>\n",
       "      <th>410</th>\n",
       "      <td>0202</td>\n",
       "      <td>을지로입구</td>\n",
       "      <td>02호선</td>\n",
       "      <td>202</td>\n",
       "    </tr>\n",
       "  </tbody>\n",
       "</table>\n",
       "<p>411 rows × 4 columns</p>\n",
       "</div>"
      ],
      "text/plain": [
       "    전철역코드   전철역명    호선   외부코드\n",
       "0    0244     용답  02호선  211-1\n",
       "1    0245     신답  02호선  211-2\n",
       "2    0250     용두  02호선  211-3\n",
       "3    0336    학여울  03호선    346\n",
       "4    0428    삼각지  04호선    428\n",
       "..    ...    ...   ...    ...\n",
       "406  0158    청량리  01호선    124\n",
       "407  0159    동묘앞  01호선    127\n",
       "408  0200    까치산  02호선  234-4\n",
       "409  0201     시청  02호선    201\n",
       "410  0202  을지로입구  02호선    202\n",
       "\n",
       "[411 rows x 4 columns]"
      ]
     },
     "execution_count": 7,
     "metadata": {},
     "output_type": "execute_result"
    }
   ],
   "source": [
    "code"
   ]
  },
  {
   "cell_type": "markdown",
   "id": "0062914b-06f3-458f-ba1e-997555c64c69",
   "metadata": {},
   "source": [
    "- 호선별 정리"
   ]
  },
  {
   "cell_type": "code",
   "execution_count": 8,
   "id": "a4ec85f1-b3c6-4989-a0c9-7dc161cc0631",
   "metadata": {},
   "outputs": [
    {
     "data": {
      "text/html": [
       "<div>\n",
       "<style scoped>\n",
       "    .dataframe tbody tr th:only-of-type {\n",
       "        vertical-align: middle;\n",
       "    }\n",
       "\n",
       "    .dataframe tbody tr th {\n",
       "        vertical-align: top;\n",
       "    }\n",
       "\n",
       "    .dataframe thead th {\n",
       "        text-align: right;\n",
       "    }\n",
       "</style>\n",
       "<table border=\"1\" class=\"dataframe\">\n",
       "  <thead>\n",
       "    <tr style=\"text-align: right;\">\n",
       "      <th></th>\n",
       "      <th>전철역코드</th>\n",
       "      <th>전철역명</th>\n",
       "      <th>호선</th>\n",
       "      <th>외부코드</th>\n",
       "    </tr>\n",
       "  </thead>\n",
       "  <tbody>\n",
       "    <tr>\n",
       "      <th>327</th>\n",
       "      <td>2814</td>\n",
       "      <td>몽촌토성</td>\n",
       "      <td>08호선</td>\n",
       "      <td>813</td>\n",
       "    </tr>\n",
       "    <tr>\n",
       "      <th>68</th>\n",
       "      <td>2815</td>\n",
       "      <td>잠실</td>\n",
       "      <td>08호선</td>\n",
       "      <td>814</td>\n",
       "    </tr>\n",
       "    <tr>\n",
       "      <th>260</th>\n",
       "      <td>2819</td>\n",
       "      <td>문정</td>\n",
       "      <td>08호선</td>\n",
       "      <td>818</td>\n",
       "    </tr>\n",
       "    <tr>\n",
       "      <th>396</th>\n",
       "      <td>2827</td>\n",
       "      <td>모란</td>\n",
       "      <td>08호선</td>\n",
       "      <td>827</td>\n",
       "    </tr>\n",
       "    <tr>\n",
       "      <th>312</th>\n",
       "      <td>2820</td>\n",
       "      <td>장지</td>\n",
       "      <td>08호선</td>\n",
       "      <td>819</td>\n",
       "    </tr>\n",
       "  </tbody>\n",
       "</table>\n",
       "</div>"
      ],
      "text/plain": [
       "    전철역코드  전철역명    호선 외부코드\n",
       "327  2814  몽촌토성  08호선  813\n",
       "68   2815    잠실  08호선  814\n",
       "260  2819    문정  08호선  818\n",
       "396  2827    모란  08호선  827\n",
       "312  2820    장지  08호선  819"
      ]
     },
     "execution_count": 8,
     "metadata": {},
     "output_type": "execute_result"
    }
   ],
   "source": [
    "code.sort_values(by='호선', inplace=True)\n",
    "code.tail()"
   ]
  },
  {
   "attachments": {
    "08b0280c-4e60-4f11-bd69-f6296363b165.png": {
     "image/png": "[encoded data removed]"
    }
   },
   "cell_type": "markdown",
   "id": "0c2f5aed-3f74-4d7a-86bc-bcdb7e525872",
   "metadata": {},
   "source": [
    "### 열차시간표\n",
    "![image.png](attachment:08b0280c-4e60-4f11-bd69-f6296363b165.png)\n",
    "- 요일: 1-평일, 2-토요일, 3-휴일, 일요일\n",
    "- 상/하행선: 1-상행, 내선 / 2-하행, 외선"
   ]
  },
  {
   "cell_type": "code",
   "execution_count": 9,
   "id": "df7c2078-54e9-4598-9f07-9c66a2eba019",
   "metadata": {
    "scrolled": true
   },
   "outputs": [],
   "source": [
    "st_codes = code['전철역코드'].tolist()\n",
    "# st_codes"
   ]
  },
  {
   "cell_type": "markdown",
   "id": "92270e27-0936-4e71-a3d3-e6e47a39374a",
   "metadata": {},
   "source": [
    "- url에서 {st_code} 하나 지정하고 하면 키오류 안남"
   ]
  },
  {
   "cell_type": "code",
   "execution_count": 19,
   "id": "ce759450-faff-44e3-8f2d-da6f6c0b43d9",
   "metadata": {},
   "outputs": [
    {
     "ename": "KeyError",
     "evalue": "'SearchSTNTimeTableByIDService'",
     "output_type": "error",
     "traceback": [
      "\u001b[1;31m---------------------------------------------------------------------------\u001b[0m",
      "\u001b[1;31mKeyError\u001b[0m                                  Traceback (most recent call last)",
      "Cell \u001b[1;32mIn[19], line 15\u001b[0m\n\u001b[0;32m     13\u001b[0m req \u001b[38;5;241m=\u001b[39m requests\u001b[38;5;241m.\u001b[39mget(url)\n\u001b[0;32m     14\u001b[0m content \u001b[38;5;241m=\u001b[39m req\u001b[38;5;241m.\u001b[39mjson()   \n\u001b[1;32m---> 15\u001b[0m con \u001b[38;5;241m=\u001b[39m \u001b[43mcontent\u001b[49m\u001b[43m[\u001b[49m\u001b[38;5;124;43m'\u001b[39;49m\u001b[38;5;124;43mSearchSTNTimeTableByIDService\u001b[39;49m\u001b[38;5;124;43m'\u001b[39;49m\u001b[43m]\u001b[49m[\u001b[38;5;124m'\u001b[39m\u001b[38;5;124mrow\u001b[39m\u001b[38;5;124m'\u001b[39m]\n\u001b[0;32m     16\u001b[0m result \u001b[38;5;241m=\u001b[39m pd\u001b[38;5;241m.\u001b[39mDataFrame(con)\n\u001b[0;32m     17\u001b[0m data \u001b[38;5;241m=\u001b[39m pd\u001b[38;5;241m.\u001b[39mconcat([data, result])\n",
      "\u001b[1;31mKeyError\u001b[0m: 'SearchSTNTimeTableByIDService'"
     ]
    }
   ],
   "source": [
    "import requests\n",
    "import json\n",
    "import pandas as pd\n",
    "\n",
    "SERVICE_KEY = '69576567536c736f3133357542784147'\n",
    "st_codes = code['전철역코드'].tolist()\n",
    "\n",
    "data = pd.DataFrame()\n",
    "for i in range(1, 4):\n",
    "    for k in range(1, 3):\n",
    "        for st_code in st_codes:\n",
    "            url = f'http://openapi.seoul.go.kr:8088/{SERVICE_KEY}/Json/SearchSTNTimeTableByIDService/1/1000/{st_code}/{i}/{k}/'\n",
    "            req = requests.get(url)\n",
    "            content = req.json()   \n",
    "            con = content['SearchSTNTimeTableByIDService']['row']\n",
    "            result = pd.DataFrame(con)\n",
    "            data = pd.concat([data, result])\n",
    "print(data)"
   ]
  },
  {
   "cell_type": "code",
   "execution_count": null,
   "id": "a220f081-4527-4169-8af6-0af29274a99f",
   "metadata": {},
   "outputs": [],
   "source": [
    "import requests\n",
    "import json\n",
    "import pandas as pd\n",
    "\n",
    "SERVICE_KEY = '69576567536c736f3133357542784147'\n",
    "st_codes = code['전철역코드'].tolist()\n",
    "\n",
    "data = pd.DataFrame()\n",
    "for i in range(1, 4):\n",
    "    for k in range(1, 3):\n",
    "        for st_code in st_codes:\n",
    "            url = f'http://openapi.seoul.go.kr:8088/{SERVICE_KEY}/Json/SearchSTNTimeTableByIDService/1/1000/{st_code}/{i}/{k}/'\n",
    "            req = requests.get(url)\n",
    "            content = req.json()   \n",
    "            con = content['SearchSTNTimeTableByIDService']['row']\n",
    "            result = pd.DataFrame(con)\n",
    "            data = pd.concat([data, result])\n",
    "            print(data.tail(10))"
   ]
  },
  {
   "cell_type": "code",
   "execution_count": 25,
   "id": "f7af470d-7359-480d-8952-9126ffdb9d12",
   "metadata": {},
   "outputs": [
    {
     "data": {
      "text/plain": [
       "LINE_NUM\n",
       "01호선    14580\n",
       "02호선    11697\n",
       "05호선     9402\n",
       "04호선     8856\n",
       "03호선     7717\n",
       "Name: count, dtype: int64"
      ]
     },
     "execution_count": 25,
     "metadata": {},
     "output_type": "execute_result"
    }
   ],
   "source": [
    "data.LINE_NUM.value_counts()"
   ]
  }
 ],
 "metadata": {
  "kernelspec": {
   "display_name": "Python 3 (ipykernel)",
   "language": "python",
   "name": "python3"
  },
  "language_info": {
   "codemirror_mode": {
    "name": "ipython",
    "version": 3
   },
   "file_extension": ".py",
   "mimetype": "text/x-python",
   "name": "python",
   "nbconvert_exporter": "python",
   "pygments_lexer": "ipython3",
   "version": "3.9.13"
  }
 },
 "nbformat": 4,
 "nbformat_minor": 5
}
