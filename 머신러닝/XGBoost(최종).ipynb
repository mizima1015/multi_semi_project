{
 "cells": [
  {
   "cell_type": "code",
   "execution_count": 1,
   "id": "d5e3d9b8-4ee2-45d7-98a6-853170d33be2",
   "metadata": {},
   "outputs": [],
   "source": [
    "import pandas as pd\n",
    "\n",
    "df = pd.read_csv(\"8호선.csv\")"
   ]
  },
  {
   "cell_type": "code",
   "execution_count": 2,
   "id": "5f079284-c756-492a-838d-82b58c975df7",
   "metadata": {},
   "outputs": [],
   "source": [
    "from sklearn.model_selection import train_test_split\n",
    "\n",
    "# 데이터를 독립변수(X)와 종속변수(y)로 나눕니다.\n",
    "X = df[['YEAR', 'MONTH', 'DAY', 'STATION', 'DIRECTION', 'TIME_00']]\n",
    "y = df['CONGESTION']\n",
    "\n",
    "# 데이터를 학습, 테스트 데이터로 나눕니다.\n",
    "X_train, X_test, y_train, y_test = train_test_split(X, y, test_size=0.3, random_state=42)"
   ]
  },
  {
   "cell_type": "code",
   "execution_count": 3,
   "id": "e586260d-038a-4ad9-b6b2-b1498c5956f0",
   "metadata": {},
   "outputs": [],
   "source": [
    "from sklearn.preprocessing import OneHotEncoder\n",
    "from sklearn.compose import ColumnTransformer\n",
    "from sklearn.pipeline import Pipeline\n",
    "\n",
    "# 범주형 열에 OneHot 인코딩을 적용\n",
    "categorical_features = ['YEAR', 'MONTH', 'DAY', 'STATION', 'DIRECTION', 'TIME_00']\n",
    "categorical_transformer = Pipeline(steps=[\n",
    "    ('onehot', OneHotEncoder(handle_unknown='infrequent_if_exist', sparse_output=False))\n",
    "])\n",
    "\n",
    "preprocessor = ColumnTransformer(\n",
    "    transformers=[\n",
    "        ('cat', categorical_transformer, categorical_features)],\n",
    "    remainder='passthrough')  # 나머지 변수를 유지"
   ]
  },
  {
   "cell_type": "code",
   "execution_count": 4,
   "id": "ba69ca2d-2b26-4de7-8250-f591e187b97a",
   "metadata": {},
   "outputs": [],
   "source": [
    "from sklearn.ensemble import RandomForestRegressor\n",
    "from sklearn.linear_model import LinearRegression\n",
    "from sklearn.pipeline import Pipeline\n",
    "from xgboost import XGBRegressor"
   ]
  },
  {
   "cell_type": "code",
   "execution_count": 5,
   "id": "87cc20ef-b6f2-4f0f-842c-59c45899b0b8",
   "metadata": {},
   "outputs": [],
   "source": [
    "# 여러 모델 정의\n",
    "models = {\n",
    "    \"XGB_reg\": XGBRegressor(random_state=42)\n",
    "}"
   ]
  },
  {
   "cell_type": "code",
   "execution_count": 6,
   "id": "393c0f29-8d9c-473a-b10f-33b48fd93909",
   "metadata": {},
   "outputs": [],
   "source": [
    "# 파이프라인 정의\n",
    "pipelines = {}\n",
    "for model_name, model in models.items():\n",
    "    pipeline = Pipeline([\n",
    "        ('preprocessor', preprocessor),  # ColumnTransformer를 적용\n",
    "        (model_name, model)  # 각 모델 적용\n",
    "    ])\n",
    "    pipelines[model_name] = pipeline"
   ]
  },
  {
   "cell_type": "code",
   "execution_count": 7,
   "id": "5175085e-cc28-4f81-b05e-364dfb517b4f",
   "metadata": {},
   "outputs": [],
   "source": [
    "# 튜닝할 하이퍼파라미터 그리드 정의\n",
    "param_dists = {\n",
    "    'XGB_reg': {\n",
    "        'XGB_reg__learning_rate': [0.01, 0.05, 0.1, 0.3, 0.5],\n",
    "        'XGB_reg__n_estimators': [50, 100, 150, 200, 250],\n",
    "        'XGB_reg__max_depth': [3, 4, 5, 6, 7, 8],\n",
    "        'XGB_reg__subsample': [0.5, 0.6, 0.7, 0.8, 0.9],\n",
    "        'XGB_reg__colsample_bytree': [0.5, 0.7, 0.8, 0.9, 1],\n",
    "        'XGB_reg__gamma': [0, 0.1, 0.2, 0.3, 0.4]       \n",
    "    }\n",
    "}"
   ]
  },
  {
   "cell_type": "code",
   "execution_count": 8,
   "id": "43ba1943-a877-446c-9674-5c3083438a0c",
   "metadata": {},
   "outputs": [
    {
     "name": "stdout",
     "output_type": "stream",
     "text": [
      "Fitting 5 folds for each of 20 candidates, totalling 100 fits\n"
     ]
    }
   ],
   "source": [
    "import warnings\n",
    "from sklearn.model_selection import RandomizedSearchCV\n",
    "\n",
    "warnings.filterwarnings('ignore')\n",
    "\n",
    "# 모델 선택 및 RandomizedSearchCV 객체 생성\n",
    "results = {}\n",
    "for model_name, pipeline in pipelines.items():\n",
    "    param_dist = param_dists[model_name]\n",
    "    random_search = RandomizedSearchCV(estimator=pipeline, param_distributions=param_dist, n_iter=20, cv=5,\n",
    "                                       scoring='neg_mean_squared_error', verbose=2, n_jobs=-1, random_state=42,\n",
    "                                       return_train_score=True, refit=True)\n",
    "    random_search.fit(X_train, y_train)\n",
    "    results[model_name] = random_search"
   ]
  },
  {
   "cell_type": "code",
   "execution_count": 9,
   "id": "c24e0a0a-b52e-47e6-b71a-021fe33ad9dd",
   "metadata": {},
   "outputs": [
    {
     "name": "stdout",
     "output_type": "stream",
     "text": [
      "모델: XGB_reg\n",
      "최적 하이퍼파라미터: {'XGB_reg__subsample': 0.9, 'XGB_reg__n_estimators': 150, 'XGB_reg__max_depth': 7, 'XGB_reg__learning_rate': 0.5, 'XGB_reg__gamma': 0, 'XGB_reg__colsample_bytree': 0.9}\n",
      "\n",
      "Test 성능 지표:\n",
      "Mean Absolute Error (MAE): 1.417789702297206\n",
      "Root Mean Squared Error (RMSE): 2.0012378943525246\n",
      "Adjusted R-squared (Adjusted R2): 0.9938622044130979\n",
      "\n",
      "\n",
      "\n"
     ]
    }
   ],
   "source": [
    "from sklearn.metrics import mean_absolute_error, mean_squared_error, r2_score\n",
    "import joblib\n",
    "\n",
    "# 각 모델별로 최적 모델 및 하이퍼파라미터 출력, 최적 모델 저장\n",
    "for model_name, result in results.items():\n",
    "    best_model = result.best_estimator_\n",
    "    best_params = result.best_params_\n",
    "\n",
    "    print(f\"모델: {model_name}\")\n",
    "    print(f\"최적 하이퍼파라미터: {best_params}\")\n",
    "\n",
    "    # 최적 모델 저장\n",
    "    joblib.dump(best_model, f'{model_name}_num8.pkl')\n",
    "\n",
    "    # 테스트 데이터를 사용하여 모델의 성능을 평가합니다.\n",
    "    y_test_pred = best_model.predict(X_test)\n",
    "\n",
    "    # MAE, RMSE, Adjusted R2 Score 계산\n",
    "    mae_test = mean_absolute_error(y_test, y_test_pred)\n",
    "    rmse_test = mean_squared_error(y_test, y_test_pred, squared=False)\n",
    "    n = X_test.shape[0]\n",
    "    p = X_test.shape[1]\n",
    "    r2_test = r2_score(y_test, y_test_pred)\n",
    "    adjusted_r2_test = 1 - (1 - r2_test) * (n - 1) / (n - p - 1)\n",
    "\n",
    "    # 결과를 출력합니다.\n",
    "    print(\"\\nTest 성능 지표:\")\n",
    "    print(\"Mean Absolute Error (MAE):\", mae_test)\n",
    "    print(\"Root Mean Squared Error (RMSE):\", rmse_test)\n",
    "    print(\"Adjusted R-squared (Adjusted R2):\", adjusted_r2_test)\n",
    "    print('\\n\\n')"
   ]
  }
 ],
 "metadata": {
  "kernelspec": {
   "display_name": "Python 3 (ipykernel)",
   "language": "python",
   "name": "python3"
  },
  "language_info": {
   "codemirror_mode": {
    "name": "ipython",
    "version": 3
   },
   "file_extension": ".py",
   "mimetype": "text/x-python",
   "name": "python",
   "nbconvert_exporter": "python",
   "pygments_lexer": "ipython3",
   "version": "3.9.13"
  }
 },
 "nbformat": 4,
 "nbformat_minor": 5
}
