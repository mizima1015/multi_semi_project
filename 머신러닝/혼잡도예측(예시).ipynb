{
 "cells": [
  {
   "cell_type": "code",
   "execution_count": 3,
   "id": "3e6dea7f-8a9e-48a1-bedf-3cd6bc3c9d8d",
   "metadata": {},
   "outputs": [],
   "source": [
    "import pandas as pd"
   ]
  },
  {
   "cell_type": "code",
   "execution_count": 1,
   "id": "0d5a0753-0cbb-49b6-8515-51987d441bf3",
   "metadata": {},
   "outputs": [],
   "source": [
    "import joblib\n",
    "\n",
    "def predict(pkl, X_data):\n",
    "  model = joblib.load(pkl)\n",
    "\n",
    "  # 예측을 수행합니다.\n",
    "  predicted_congestion = model.predict(new_data)\n",
    "\n",
    "  # 예측 결과를 출력합니다.\n",
    "  print(\"예측 혼잡도:\", predicted_congestion)"
   ]
  },
  {
   "cell_type": "code",
   "execution_count": 4,
   "id": "7fa7daed-db93-4220-935e-88663148bff0",
   "metadata": {},
   "outputs": [],
   "source": [
    "# 예측할 데이터 예시\n",
    "new_data = pd.DataFrame({'YEAR': [2023, 2023], 'MONTH': [3, 10], 'DAY': ['월', '금'], 'STATION': ['서울역', '동대문'], 'DIRECTION': ['상선', '하선'], 'TIME_00': ['TIME_09', 'TIME_18']})"
   ]
  },
  {
   "cell_type": "code",
   "execution_count": 5,
   "id": "4826d3bc-d5dc-44e7-b2fb-739c0be5a2c8",
   "metadata": {},
   "outputs": [
    {
     "name": "stdout",
     "output_type": "stream",
     "text": [
      "예측 혼잡도: [57.572235 45.529655]\n"
     ]
    }
   ],
   "source": [
    "predict('XGB_reg_num1.pkl', new_data)"
   ]
  }
 ],
 "metadata": {
  "kernelspec": {
   "display_name": "Python 3 (ipykernel)",
   "language": "python",
   "name": "python3"
  },
  "language_info": {
   "codemirror_mode": {
    "name": "ipython",
    "version": 3
   },
   "file_extension": ".py",
   "mimetype": "text/x-python",
   "name": "python",
   "nbconvert_exporter": "python",
   "pygments_lexer": "ipython3",
   "version": "3.9.13"
  }
 },
 "nbformat": 4,
 "nbformat_minor": 5
}
