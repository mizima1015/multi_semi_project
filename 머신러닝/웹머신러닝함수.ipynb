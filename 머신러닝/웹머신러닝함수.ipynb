{
 "cells": [
  {
   "cell_type": "code",
   "execution_count": 90,
   "id": "09477c62-0062-4c94-9179-9ae739ef4be0",
   "metadata": {},
   "outputs": [],
   "source": [
    "import pandas as pd\n",
    "import joblib\n",
    "\n",
    "df = pd.read_csv(\"호선정리.csv\", encoding='CP949')\n",
    "list_data = df.values.tolist()\n",
    "\n",
    "def shortest_path_2ho(start_idx, end_idx, stations):\n",
    "    direct_path = abs(end_idx - start_idx)\n",
    "    if direct_path <= len(stations) / 2:\n",
    "        if start_idx < end_idx:\n",
    "            return start_idx , end_idx , \"상선\"\n",
    "        else :\n",
    "            start_idx, end_idx = end_idx + 1, start_idx + 1\n",
    "            return start_idx , end_idx , \"하선\"\n",
    "\n",
    "    else:\n",
    "        if start_idx < end_idx:\n",
    "            start_idx,end_idx = start_idx + 1, end_idx + 1\n",
    "            return end_idx, start_idx + len(stations), \"하선\"\n",
    "        else: \n",
    "            return start_idx, end_idx + len(stations), \"상선\"\n",
    "\n",
    "def print_congestion_predictions(start_station, end_station, input_YEAR, input_MONTH, input_DAY, input_LINE, input_TIME, station_data):\n",
    "    stations = [item[2] for item in station_data if item[1] == input_LINE]\n",
    "    start_idx, end_idx = stations.index(start_station), stations.index(end_station)\n",
    "    \n",
    "    is_line_2 = input_LINE == 2\n",
    "    if is_line_2:\n",
    "        start_idx, end_idx, direction = shortest_path_2ho(start_idx, end_idx, stations)\n",
    "    else:\n",
    "        direction = \"상선\" if start_idx < end_idx else \"하선\"\n",
    "        if direction == \"하선\":\n",
    "            start_idx, end_idx = end_idx + 1 , start_idx + 1\n",
    "\n",
    "    if input_LINE in [21,22]:\n",
    "        input_LINE = 2\n",
    "\n",
    "    if input_LINE in [51]:\n",
    "        input_LINE = 5\n",
    "\n",
    "    model = joblib.load(f'XGB_reg_num{input_LINE}.pkl')\n",
    "\n",
    "    input_datas = []\n",
    "    for idx in range(start_idx , end_idx):\n",
    "        station = stations[idx % len(stations)]\n",
    "        input_datas.append({\n",
    "            'YEAR': input_YEAR,\n",
    "            'MONTH': input_MONTH,\n",
    "            'DAY': input_DAY,\n",
    "            'STATION': station,\n",
    "            'DIRECTION': direction,\n",
    "            'TIME_00': input_TIME\n",
    "        })\n",
    "\n",
    "    df_input = pd.DataFrame(input_datas)\n",
    "    predictions = model.predict(df_input)\n",
    "\n",
    "    for station, pred in zip(df_input['STATION'], predictions):\n",
    "        print(f\"역: {station}, 예측 혼잡도: {pred:.2f}\")\n",
    "    print(direction)\n",
    "    avg_congestion = predictions.mean()\n",
    "    print(f\"평균 혼잡도: {avg_congestion:.2f}\")"
   ]
  },
  {
   "cell_type": "code",
   "execution_count": 91,
   "id": "ba034826-6107-4f53-b1e1-08153586e313",
   "metadata": {},
   "outputs": [
    {
     "name": "stdout",
     "output_type": "stream",
     "text": [
      "역: 강남, 예측 혼잡도: 133.54\n",
      "역: 교대, 예측 혼잡도: 155.76\n",
      "역: 서초, 예측 혼잡도: 157.68\n",
      "역: 방배, 예측 혼잡도: 163.89\n",
      "역: 사당, 예측 혼잡도: 124.08\n",
      "역: 낙성대, 예측 혼잡도: 120.11\n",
      "역: 서울대입구, 예측 혼잡도: 110.27\n",
      "역: 봉천, 예측 혼잡도: 103.49\n",
      "역: 신림, 예측 혼잡도: 81.54\n",
      "역: 신대방, 예측 혼잡도: 84.74\n",
      "역: 구로디지털단지, 예측 혼잡도: 102.09\n",
      "역: 대림, 예측 혼잡도: 93.61\n",
      "역: 신도림, 예측 혼잡도: 83.38\n",
      "역: 문래, 예측 혼잡도: 79.79\n",
      "역: 영등포구청, 예측 혼잡도: 77.46\n",
      "역: 당산, 예측 혼잡도: 76.12\n",
      "역: 합정, 예측 혼잡도: 59.96\n",
      "역: 홍대입구, 예측 혼잡도: 47.17\n",
      "역: 신촌, 예측 혼잡도: 49.93\n",
      "상선\n",
      "평균 혼잡도: 100.24\n"
     ]
    }
   ],
   "source": [
    "print_congestion_predictions('강남', '이대', 2023, 5, '월', 2, 'TIME_18', list_data)"
   ]
  }
 ],
 "metadata": {
  "kernelspec": {
   "display_name": "Python 3 (ipykernel)",
   "language": "python",
   "name": "python3"
  },
  "language_info": {
   "codemirror_mode": {
    "name": "ipython",
    "version": 3
   },
   "file_extension": ".py",
   "mimetype": "text/x-python",
   "name": "python",
   "nbconvert_exporter": "python",
   "pygments_lexer": "ipython3",
   "version": "3.9.13"
  }
 },
 "nbformat": 4,
 "nbformat_minor": 5
}
